{
 "cells": [
  {
   "cell_type": "code",
   "execution_count": 5,
   "id": "15560f61",
   "metadata": {},
   "outputs": [
    {
     "name": "stdout",
     "output_type": "stream",
     "text": [
      "The sample proportion of dates where the record high occurred more recently: 0.7885\n"
     ]
    }
   ],
   "source": [
    "import pandas as pd\n",
    "\n",
    "file_path = \"Climate.csv\" \n",
    "temperature_data = pd.read_csv(file_path)\n",
    "\n",
    "# Calculate the sample proportion\n",
    "num_occurrences_high_more_recent = sum(temperature_data['Hyear'] > temperature_data['Lyear'])\n",
    "total_occurrences = len(temperature_data)\n",
    "\n",
    "sample_proportion = num_occurrences_high_more_recent / total_occurrences\n",
    "\n",
    "# Display the result\n",
    "print(f\"The sample proportion of dates where the record high occurred more recently: {sample_proportion:.4f}\")\n",
    "\n",
    "        "
   ]
  },
  {
   "cell_type": "code",
   "execution_count": 14,
   "id": "81155adc",
   "metadata": {},
   "outputs": [
    {
     "name": "stdout",
     "output_type": "stream",
     "text": [
      "Sample Proportion: 0.7885\n",
      "Null Hypothesis Proportion: 0.5\n",
      "P-value: 0.0000\n",
      "Reject the null hypothesis\n"
     ]
    }
   ],
   "source": [
    "import pandas as pd\n",
    "from scipy.stats import binomtest\n",
    "\n",
    "\n",
    "file_path = \"Climate.csv\" \n",
    "temperature_data = pd.read_csv(file_path)\n",
    "\n",
    "# Calculate the sample proportion\n",
    "num_occurrences_high_more_recent = sum(temperature_data['Hyear'] > temperature_data['Lyear'])\n",
    "total_occurrences = len(temperature_data)\n",
    "sample_proportion = num_occurrences_high_more_recent / total_occurrences\n",
    "\n",
    "p_null = 0.5\n",
    "\n",
    "# Perform the one-sided binomial test\n",
    "result = binomtest(num_occurrences_high_more_recent, total_occurrences, p_null, alternative='greater')\n",
    "\n",
    "\n",
    "p_value = result.pvalue\n",
    "\n",
    "\n",
    "alpha = 0.05\n",
    "\n",
    "\n",
    "print(f\"Sample Proportion: {sample_proportion:.4f}\")\n",
    "print(f\"Null Hypothesis Proportion: {p_null}\")\n",
    "print(f\"P-value: {p_value:.4f}\")\n",
    "\n",
    "\n",
    "if p_value < alpha:\n",
    "    print(\"Reject the null hypothesis\")\n",
    "else:\n",
    "    print(\"Fail to reject the null hypothesis\")\n"
   ]
  },
  {
   "cell_type": "code",
   "execution_count": null,
   "id": "f8cabf31",
   "metadata": {},
   "outputs": [],
   "source": []
  }
 ],
 "metadata": {
  "kernelspec": {
   "display_name": "Python 3 (ipykernel)",
   "language": "python",
   "name": "python3"
  },
  "language_info": {
   "codemirror_mode": {
    "name": "ipython",
    "version": 3
   },
   "file_extension": ".py",
   "mimetype": "text/x-python",
   "name": "python",
   "nbconvert_exporter": "python",
   "pygments_lexer": "ipython3",
   "version": "3.10.8"
  }
 },
 "nbformat": 4,
 "nbformat_minor": 5
}
