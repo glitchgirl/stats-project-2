{
 "cells": [
  {
   "cell_type": "code",
   "execution_count": 2,
   "id": "37b7f94f",
   "metadata": {},
   "outputs": [
    {
     "name": "stdout",
     "output_type": "stream",
     "text": [
      "Mean Year of Record Lows: 1915.85\n",
      "Null Hypothesis Mean: 1944.5\n",
      "P-value: 0.0000\n",
      "Reject the null hypothesis\n",
      "There is evidence to suggest that record lows are more likely to have occurred in the past.\n"
     ]
    }
   ],
   "source": [
    "import pandas as pd\n",
    "from scipy.stats import ttest_1samp\n",
    "\n",
    "file_path = \"Climate.csv\" \n",
    "temperature_data = pd.read_csv(file_path)\n",
    "\n",
    "# Calculate the mean year of record lows\n",
    "mean_year_record_lows = temperature_data['Lyear'].mean()\n",
    "\n",
    "# Define the null hypothesis mean\n",
    "null_mean = 1944.5\n",
    "\n",
    "# Perform the one-sample t-test\n",
    "result = ttest_1samp(temperature_data['Lyear'], null_mean, alternative='less')\n",
    "\n",
    "\n",
    "p_value = result.pvalue\n",
    "\n",
    "\n",
    "alpha = 0.05\n",
    "\n",
    "# Display the results\n",
    "print(f\"Mean Year of Record Lows: {mean_year_record_lows:.2f}\")\n",
    "print(f\"Null Hypothesis Mean: {null_mean}\")\n",
    "print(f\"P-value: {p_value:.4f}\")\n",
    "\n",
    "\n",
    "if p_value < alpha:\n",
    "    print(\"Reject the null hypothesis\")\n",
    "else:\n",
    "    print(\"Fail to reject the null hypothesis\")\n",
    "\n",
    "if p_value < alpha:\n",
    "    print(\"There is evidence to suggest that record lows are more likely to have occurred in the past.\")\n",
    "else:\n",
    "    print(\"There is not sufficient evidence to conclude that record lows are more likely to have occurred recently.\")"
   ]
  },
  {
   "cell_type": "code",
   "execution_count": null,
   "id": "c7ab2919",
   "metadata": {},
   "outputs": [],
   "source": []
  }
 ],
 "metadata": {
  "kernelspec": {
   "display_name": "Python 3 (ipykernel)",
   "language": "python",
   "name": "python3"
  },
  "language_info": {
   "codemirror_mode": {
    "name": "ipython",
    "version": 3
   },
   "file_extension": ".py",
   "mimetype": "text/x-python",
   "name": "python",
   "nbconvert_exporter": "python",
   "pygments_lexer": "ipython3",
   "version": "3.10.8"
  }
 },
 "nbformat": 4,
 "nbformat_minor": 5
}
