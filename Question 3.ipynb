{
 "cells": [
  {
   "cell_type": "code",
   "execution_count": null,
   "id": "6322cbac",
   "metadata": {},
   "outputs": [],
   "source": [
    "import pandas as pd\n",
    "from scipy.stats import ttest_1samp\n",
    "\n",
    "# Read data from CSV file\n",
    "file_path = \"Climate.csv\"  # Replace with the actual path to your CSV file\n",
    "temperature_data = pd.read_csv(file_path)\n",
    "\n",
    "# Calculate the mean year of record lows\n",
    "mean_year_record_lows = temperature_data['Lyear'].mean()\n",
    "\n",
    "# Define the null hypothesis mean\n",
    "null_mean = 1944.5\n",
    "\n",
    "# Perform the one-sample t-test\n",
    "result = ttest_1samp(temperature_data['Lyear'], null_mean, alternative='less')\n",
    "\n",
    "# Extract p-value from the result\n",
    "p_value = result.pvalue\n",
    "\n",
    "# Set the significance level\n",
    "alpha = 0.05\n",
    "\n",
    "# Display the results\n",
    "print(f\"Mean Year of Record Lows: {mean_year_record_lows:.2f}\")\n",
    "print(f\"Null Hypothesis Mean: {null_mean}\")\n",
    "print(f\"P-value: {p_value:.4f}\")\n",
    "\n",
    "# Check if the null hypothesis is rejected\n",
    "if p_value < alpha:\n",
    "    print(\"Reject the null hypothesis\")\n",
    "else:\n",
    "    print(\"Fail to reject the null hypothesis\")\n",
    "\n",
    "# Conclusion based on the p-value\n",
    "if p_value < alpha:\n",
    "    print(\"There is evidence to suggest that record lows are more likely to have occurred recently.\")\n",
    "else:\n",
    "    print(\"There is not sufficient evidence to conclude that record lows are more likely to have occurred recently.\")\n"
   ]
  }
 ],
 "metadata": {
  "kernelspec": {
   "display_name": "Python 3 (ipykernel)",
   "language": "python",
   "name": "python3"
  },
  "language_info": {
   "codemirror_mode": {
    "name": "ipython",
    "version": 3
   },
   "file_extension": ".py",
   "mimetype": "text/x-python",
   "name": "python",
   "nbconvert_exporter": "python",
   "pygments_lexer": "ipython3",
   "version": "3.10.8"
  }
 },
 "nbformat": 4,
 "nbformat_minor": 5
}
